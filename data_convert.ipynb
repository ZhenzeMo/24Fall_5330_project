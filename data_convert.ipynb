{
  "cells": [
    {
      "cell_type": "code",
      "execution_count": null,
      "metadata": {
        "id": "lZjfI0IS9DF0"
      },
      "outputs": [],
      "source": [
        "import re\n",
        "import os\n",
        "import pandas as pd\n",
        "import json\n",
        "import uuid"
      ]
    },
    {
      "cell_type": "code",
      "source": [
        "pwd"
      ],
      "metadata": {
        "colab": {
          "base_uri": "https://localhost:8080/",
          "height": 35
        },
        "id": "4lQ7i5BQ9NgQ",
        "outputId": "e4069f4e-c75d-4021-ab37-7a2a90df17c5"
      },
      "execution_count": null,
      "outputs": [
        {
          "output_type": "execute_result",
          "data": {
            "text/plain": [
              "'/content'"
            ],
            "application/vnd.google.colaboratory.intrinsic+json": {
              "type": "string"
            }
          },
          "metadata": {},
          "execution_count": 2
        }
      ]
    },
    {
      "cell_type": "code",
      "execution_count": null,
      "metadata": {
        "id": "udtl6pQD9DF1"
      },
      "outputs": [],
      "source": [
        "\n",
        "data = pd.read_json(\"./VQA_RAD Dataset Public.json\")"
      ]
    },
    {
      "cell_type": "code",
      "source": [
        "print(data.shape)"
      ],
      "metadata": {
        "colab": {
          "base_uri": "https://localhost:8080/"
        },
        "id": "90df4cV59VVU",
        "outputId": "f883f1c9-3849-4687-e3c2-d32496c01a1d"
      },
      "execution_count": null,
      "outputs": [
        {
          "output_type": "stream",
          "name": "stdout",
          "text": [
            "(2248, 14)\n"
          ]
        }
      ]
    },
    {
      "cell_type": "code",
      "execution_count": null,
      "metadata": {
        "id": "DGARZguV9DF2"
      },
      "outputs": [],
      "source": [
        "# divide images into group\n",
        "grouped_data = data.groupby(\"image_name\")\n",
        "\n",
        "\n",
        "formatted_data = []\n",
        "\n",
        "\n",
        "for image_name, group in grouped_data:\n",
        "    conversations = []\n",
        "\n",
        "    # add `image_organ` as the context\n",
        "    image_organ = group.iloc[0][\"image_organ\"]\n",
        "    if pd.notna(image_organ) and image_organ != \"NULL\":\n",
        "        conversations.append({\n",
        "            \"from\": \"human\",\n",
        "            \"value\": \"<image>\\nWhat organ is shown in the image?\"\n",
        "        })\n",
        "        conversations.append({\n",
        "            \"from\": \"gpt\",\n",
        "            \"value\": image_organ\n",
        "        })\n",
        "\n",
        "    # build `conversation`\n",
        "    for _, row in group.iterrows():\n",
        "        # add question\n",
        "        conversations.append({\n",
        "            \"from\": \"human\",\n",
        "            \"value\": f\"<image>\\n{row['question']}\"\n",
        "        })\n",
        "        # add answer\n",
        "        conversations.append({\n",
        "            \"from\": \"gpt\",\n",
        "            \"value\": row[\"answer\"]\n",
        "        })\n",
        "\n",
        "    # add into the target list\n",
        "    formatted_data.append({\n",
        "        \"id\": str(uuid.uuid4()),\n",
        "        \"image\": {image_name},\n",
        "        \"conversation\": conversations\n",
        "    })\n",
        "\n",
        "\n",
        "with open(\"formatted_vqa_rad_with_organ.json\", \"w\", encoding=\"utf-8\") as f:\n",
        "    json.dump(formatted_data, f, ensure_ascii=False, indent=4)\n",
        "\n",
        "print(\"Data saved successfully！\")"
      ]
    },
    {
      "cell_type": "code",
      "source": [
        "# Import necessary libraries\n",
        "import os\n",
        "import pandas as pd\n",
        "import json\n",
        "import shutil"
      ],
      "metadata": {
        "id": "3YyDBPsD9ZA9"
      },
      "execution_count": null,
      "outputs": []
    },
    {
      "cell_type": "code",
      "source": [
        "# Load the parquet dataset\n",
        "parquet_file = \"train.parquet\"  # Replace with your actual parquet file path\n",
        "data = pd.read_parquet(parquet_file)\n"
      ],
      "metadata": {
        "id": "ESoBicIU7XTO"
      },
      "execution_count": null,
      "outputs": []
    },
    {
      "cell_type": "code",
      "source": [
        "# Create the output folder for images\n",
        "image_folder = \"image\"\n",
        "os.makedirs(image_folder, exist_ok=True)\n",
        "\n",
        "# Initialize the output JSON list\n",
        "output_json = []"
      ],
      "metadata": {
        "id": "Ax9tOwxe7tQK"
      },
      "execution_count": null,
      "outputs": []
    },
    {
      "cell_type": "code",
      "source": [
        "for idx, row in data.iterrows():\n",
        "    image_data = row[\"image\"][\"bytes\"]\n",
        "    image_filename = f\"image_{idx}.jpg\"\n",
        "    image_output_path = os.path.join(image_folder, image_filename)\n",
        "\n",
        "    with open(image_output_path, \"wb\") as img_file:\n",
        "        img_file.write(image_data)\n",
        "\n",
        "    output_json.append({\n",
        "        \"id\": f\"entry_{idx}\",\n",
        "        \"image\": image_filename,\n",
        "        \"conversations\": [\n",
        "            {\"from\": \"human\", \"value\": f\"<image>\\n{row['question']}\"},\n",
        "            {\"from\": \"gpt\", \"value\": row[\"answer\"]}\n",
        "        ]\n",
        "    })\n",
        "\n",
        "output_json_file = \"out.json\"\n",
        "with open(output_json_file, \"w\", encoding=\"utf-8\") as f:\n",
        "    json.dump(output_json, f, indent=4, ensure_ascii=False)\n",
        "\n"
      ],
      "metadata": {
        "id": "qoZK6TaM7v_j"
      },
      "execution_count": null,
      "outputs": []
    },
    {
      "cell_type": "code",
      "source": [
        "import json\n",
        "\n",
        "input_json_file = \"out.json\"\n",
        "output_json_file = \"output_corrected.json\"\n",
        "\n",
        "with open(input_json_file, \"r\", encoding=\"utf-8\") as f:\n",
        "    data = json.load(f)\n",
        "\n",
        "for entry in data:\n",
        "    for conversation in entry[\"conversations\"]:\n",
        "        if conversation[\"from\"] == \"human\":\n",
        "            # if human's value without \"<image>\\n\"\n",
        "            if not conversation[\"value\"].startswith(\"<image>\\n\"):\n",
        "                conversation[\"value\"] = f\"<image>\\n{conversation['value']}\"\n",
        "\n",
        "with open(output_json_file, \"w\", encoding=\"utf-8\") as f:\n",
        "    json.dump(data, f, indent=4, ensure_ascii=False)\n",
        "\n",
        "print(f\"fix the format {output_json_file}\")\n"
      ],
      "metadata": {
        "id": "yaQMs6MU9DGM"
      },
      "execution_count": null,
      "outputs": []
    },
    {
      "cell_type": "code",
      "source": [
        "from google.colab import files\n",
        "import shutil\n",
        "\n",
        "folder_to_zip = \"image\"\n",
        "output_zip = \"image_folder.zip\"\n",
        "\n",
        "shutil.make_archive(output_zip.replace(\".zip\", \"\"), 'zip', folder_to_zip)\n",
        "\n",
        "files.download(output_zip)\n"
      ],
      "metadata": {
        "colab": {
          "base_uri": "https://localhost:8080/",
          "height": 17
        },
        "id": "qE3-YPG0_Cea",
        "outputId": "7b532122-026b-415f-888d-6d095332bd49"
      },
      "execution_count": null,
      "outputs": [
        {
          "output_type": "display_data",
          "data": {
            "text/plain": [
              "<IPython.core.display.Javascript object>"
            ],
            "application/javascript": [
              "\n",
              "    async function download(id, filename, size) {\n",
              "      if (!google.colab.kernel.accessAllowed) {\n",
              "        return;\n",
              "      }\n",
              "      const div = document.createElement('div');\n",
              "      const label = document.createElement('label');\n",
              "      label.textContent = `Downloading \"${filename}\": `;\n",
              "      div.appendChild(label);\n",
              "      const progress = document.createElement('progress');\n",
              "      progress.max = size;\n",
              "      div.appendChild(progress);\n",
              "      document.body.appendChild(div);\n",
              "\n",
              "      const buffers = [];\n",
              "      let downloaded = 0;\n",
              "\n",
              "      const channel = await google.colab.kernel.comms.open(id);\n",
              "      // Send a message to notify the kernel that we're ready.\n",
              "      channel.send({})\n",
              "\n",
              "      for await (const message of channel.messages) {\n",
              "        // Send a message to notify the kernel that we're ready.\n",
              "        channel.send({})\n",
              "        if (message.buffers) {\n",
              "          for (const buffer of message.buffers) {\n",
              "            buffers.push(buffer);\n",
              "            downloaded += buffer.byteLength;\n",
              "            progress.value = downloaded;\n",
              "          }\n",
              "        }\n",
              "      }\n",
              "      const blob = new Blob(buffers, {type: 'application/binary'});\n",
              "      const a = document.createElement('a');\n",
              "      a.href = window.URL.createObjectURL(blob);\n",
              "      a.download = filename;\n",
              "      div.appendChild(a);\n",
              "      a.click();\n",
              "      div.remove();\n",
              "    }\n",
              "  "
            ]
          },
          "metadata": {}
        },
        {
          "output_type": "display_data",
          "data": {
            "text/plain": [
              "<IPython.core.display.Javascript object>"
            ],
            "application/javascript": [
              "download(\"download_fb382f82-406c-476b-98c5-79ba1a38eaf8\", \"image_folder.zip\", 89897765)"
            ]
          },
          "metadata": {}
        }
      ]
    },
    {
      "cell_type": "markdown",
      "source": [
        "###split the data into train and test dataset\n"
      ],
      "metadata": {
        "id": "pohQyfeP5eBc"
      }
    },
    {
      "cell_type": "markdown",
      "source": [
        "####unzip the image data"
      ],
      "metadata": {
        "id": "kfPOZg3z5kzt"
      }
    },
    {
      "cell_type": "code",
      "source": [
        "!pwd"
      ],
      "metadata": {
        "colab": {
          "base_uri": "https://localhost:8080/"
        },
        "id": "YuSsOb475-qf",
        "outputId": "56e14f4a-987d-4fd6-de7b-6b21f10c2d97"
      },
      "execution_count": null,
      "outputs": [
        {
          "output_type": "stream",
          "name": "stdout",
          "text": [
            "/content\n"
          ]
        }
      ]
    },
    {
      "cell_type": "code",
      "source": [
        "!unzip VQA_RAD\\ Image\\ Folder.zip -d /content/image/\n"
      ],
      "metadata": {
        "colab": {
          "base_uri": "https://localhost:8080/"
        },
        "id": "GF0AH9i9_xBC",
        "outputId": "8a7b3840-f816-42f8-e953-f753ef626fd8"
      },
      "execution_count": null,
      "outputs": [
        {
          "output_type": "stream",
          "name": "stdout",
          "text": [
            "Archive:  VQA_RAD Image Folder.zip\n",
            "  inflating: /content/image/synpic676.jpg  \n",
            "  inflating: /content/image/synpic15006.jpg  \n",
            "  inflating: /content/image/synpic9872.jpg  \n",
            "  inflating: /content/image/synpic12210.jpg  \n",
            "  inflating: /content/image/synpic13385.jpg  \n",
            "  inflating: /content/image/synpic16170.jpg  \n",
            "  inflating: /content/image/synpic16221.jpg  \n",
            "  inflating: /content/image/synpic16174.jpg  \n",
            "  inflating: /content/image/synpic16520.jpg  \n",
            "  inflating: /content/image/synpic16407.jpg  \n",
            "  inflating: /content/image/synpic16810.jpg  \n",
            "  inflating: /content/image/synpic17153.jpg  \n",
            "  inflating: /content/image/synpic17145.jpg  \n",
            "  inflating: /content/image/synpic17664.jpg  \n",
            "  inflating: /content/image/synpic17693.jpg  \n",
            "  inflating: /content/image/synpic17675.jpg  \n",
            "  inflating: /content/image/synpic18319.jpg  \n",
            "  inflating: /content/image/synpic18461.jpg  \n",
            "  inflating: /content/image/synpic18250.jpg  \n",
            "  inflating: /content/image/synpic17848.jpg  \n",
            "  inflating: /content/image/synpic17738.jpg  \n",
            "  inflating: /content/image/synpic18651.jpg  \n",
            "  inflating: /content/image/synpic18896.jpg  \n",
            "  inflating: /content/image/synpic19114.jpg  \n",
            "  inflating: /content/image/synpic19232.jpg  \n",
            "  inflating: /content/image/synpic19477.jpg  \n",
            "  inflating: /content/image/synpic19118.jpg  \n",
            "  inflating: /content/image/synpic19782.jpg  \n",
            "  inflating: /content/image/synpic19853.jpg  \n",
            "  inflating: /content/image/synpic20208.jpg  \n",
            "  inflating: /content/image/synpic20375.jpg  \n",
            "  inflating: /content/image/synpic19605.jpg  \n",
            "  inflating: /content/image/synpic20626.jpg  \n",
            "  inflating: /content/image/synpic21028.jpg  \n",
            "  inflating: /content/image/synpic20260.jpg  \n",
            "  inflating: /content/image/synpic21042.jpg  \n",
            "  inflating: /content/image/synpic21037.jpg  \n",
            "  inflating: /content/image/synpic21044.jpg  \n",
            "  inflating: /content/image/synpic21410.jpg  \n",
            "  inflating: /content/image/synpic21700.jpg  \n",
            "  inflating: /content/image/synpic21604.jpg  \n",
            "  inflating: /content/image/synpic21734.jpg  \n",
            "  inflating: /content/image/synpic21776.jpg  \n",
            "  inflating: /content/image/synpic22020.jpg  \n",
            "  inflating: /content/image/synpic22037.jpg  \n",
            "  inflating: /content/image/synpic22097.jpg  \n",
            "  inflating: /content/image/synpic21902.jpg  \n",
            "  inflating: /content/image/synpic21995.jpg  \n",
            "  inflating: /content/image/synpic22310.jpg  \n",
            "  inflating: /content/image/synpic22156.jpg  \n",
            "  inflating: /content/image/synpic22286.jpg  \n",
            "  inflating: /content/image/synpic22684.jpg  \n",
            "  inflating: /content/image/synpic22791.jpg  \n",
            "  inflating: /content/image/synpic22794.jpg  \n",
            "  inflating: /content/image/synpic22828.jpg  \n",
            "  inflating: /content/image/synpic22874.jpg  \n",
            "  inflating: /content/image/synpic23008.jpg  \n",
            "  inflating: /content/image/synpic22967.jpg  \n",
            "  inflating: /content/image/synpic23130.jpg  \n",
            "  inflating: /content/image/synpic23053.jpg  \n",
            "  inflating: /content/image/synpic22982.jpg  \n",
            "  inflating: /content/image/synpic23571.jpg  \n",
            "  inflating: /content/image/synpic23631.jpg  \n",
            "  inflating: /content/image/synpic23648.jpg  \n",
            "  inflating: /content/image/synpic23989.jpg  \n",
            "  inflating: /content/image/synpic24220.jpg  \n",
            "  inflating: /content/image/synpic24319.jpg  \n",
            "  inflating: /content/image/synpic24248.jpg  \n",
            "  inflating: /content/image/synpic23803.jpg  \n",
            "  inflating: /content/image/synpic24350.jpg  \n",
            "  inflating: /content/image/synpic24390.jpg  \n",
            "  inflating: /content/image/synpic24878.jpg  \n",
            "  inflating: /content/image/synpic24538.jpg  \n",
            "  inflating: /content/image/synpic25105.jpg  \n",
            "  inflating: /content/image/synpic24967.jpg  \n",
            "  inflating: /content/image/synpic27142.jpg  \n",
            "  inflating: /content/image/synpic27198.jpg  \n",
            "  inflating: /content/image/synpic27601.jpg  \n",
            "  inflating: /content/image/synpic27646.jpg  \n",
            "  inflating: /content/image/synpic27985.jpg  \n",
            "  inflating: /content/image/synpic27655.jpg  \n",
            "  inflating: /content/image/synpic28695.jpg  \n",
            "  inflating: /content/image/synpic28210.jpg  \n",
            "  inflating: /content/image/synpic28602.jpg  \n",
            "  inflating: /content/image/synpic28277.jpg  \n",
            "  inflating: /content/image/synpic28355.jpg  \n",
            "  inflating: /content/image/synpic28378.jpg  \n",
            "  inflating: /content/image/synpic28180.jpg  \n",
            "  inflating: /content/image/synpic25587.jpg  \n",
            "  inflating: /content/image/synpic24729.jpg  \n",
            "  inflating: /content/image/synpic24424.jpg  \n",
            "  inflating: /content/image/synpic28569.jpg  \n",
            "  inflating: /content/image/synpic26248.jpg  \n",
            "  inflating: /content/image/synpic26158.jpg  \n",
            "  inflating: /content/image/synpic25534.jpg  \n",
            "  inflating: /content/image/synpic25758.jpg  \n",
            "  inflating: /content/image/synpic25821.jpg  \n",
            "  inflating: /content/image/synpic28718.jpg  \n",
            "  inflating: /content/image/synpic29048.jpg  \n",
            "  inflating: /content/image/synpic26925.jpg  \n",
            "  inflating: /content/image/synpic26413.jpg  \n",
            "  inflating: /content/image/synpic26764.jpg  \n",
            "  inflating: /content/image/synpic26697.jpg  \n",
            "  inflating: /content/image/synpic27013.jpg  \n",
            "  inflating: /content/image/synpic27277.jpg  \n",
            "  inflating: /content/image/synpic27402.jpg  \n",
            "  inflating: /content/image/synpic27576.jpg  \n",
            "  inflating: /content/image/synpic27597.jpg  \n",
            "  inflating: /content/image/synpic27047.jpg  \n",
            "  inflating: /content/image/synpic29771.jpg  \n",
            "  inflating: /content/image/synpic28987.jpg  \n",
            "  inflating: /content/image/synpic29219.jpg  \n",
            "  inflating: /content/image/synpic29263.jpg  \n",
            "  inflating: /content/image/synpic30215.jpg  \n",
            "  inflating: /content/image/synpic29265.jpg  \n",
            "  inflating: /content/image/synpic42182.jpg  \n",
            "  inflating: /content/image/synpic45557.jpg  \n",
            "  inflating: /content/image/synpic47191.jpg  \n",
            "  inflating: /content/image/synpic48091.jpg  \n",
            "  inflating: /content/image/synpic50962.jpg  \n",
            "  inflating: /content/image/synpic49914.jpg  \n",
            "  inflating: /content/image/synpic51383.jpg  \n",
            "  inflating: /content/image/synpic29795.jpg  \n",
            "  inflating: /content/image/synpic30273.jpg  \n",
            "  inflating: /content/image/synpic30324.jpg  \n",
            "  inflating: /content/image/synpic31116.jpg  \n",
            "  inflating: /content/image/synpic31217.jpg  \n",
            "  inflating: /content/image/synpic31232.jpg  \n",
            "  inflating: /content/image/synpic31248.jpg  \n",
            "  inflating: /content/image/synpic31256.jpg  \n",
            "  inflating: /content/image/synpic31394.jpg  \n",
            "  inflating: /content/image/synpic31400.jpg  \n",
            "  inflating: /content/image/synpic31757.jpg  \n",
            "  inflating: /content/image/synpic31467.jpg  \n",
            "  inflating: /content/image/synpic31916.jpg  \n",
            "  inflating: /content/image/synpic41667.jpg  \n",
            "  inflating: /content/image/synpic46062.jpg  \n",
            "  inflating: /content/image/synpic46539.jpg  \n",
            "  inflating: /content/image/synpic47974.jpg  \n",
            "  inflating: /content/image/synpic49381.jpg  \n",
            "  inflating: /content/image/synpic49027.jpg  \n",
            "  inflating: /content/image/synpic50958.jpg  \n",
            "  inflating: /content/image/synpic51426.jpg  \n",
            "  inflating: /content/image/synpic31259.jpg  \n",
            "  inflating: /content/image/synpic42202.jpg  \n",
            "  inflating: /content/image/synpic43433.jpg  \n",
            "  inflating: /content/image/synpic31928.jpg  \n",
            "  inflating: /content/image/synpic31955.jpg  \n",
            "  inflating: /content/image/synpic41788.jpg  \n",
            "  inflating: /content/image/synpic44865.jpg  \n",
            "  inflating: /content/image/synpic45634.jpg  \n",
            "  inflating: /content/image/synpic32084.jpg  \n",
            "  inflating: /content/image/synpic32108.jpg  \n",
            "  inflating: /content/image/synpic32136.jpg  \n",
            "  inflating: /content/image/synpic31962.jpg  \n",
            "  inflating: /content/image/synpic32012.jpg  \n",
            "  inflating: /content/image/synpic32081.jpg  \n",
            "  inflating: /content/image/synpic41772.jpg  \n",
            "  inflating: /content/image/synpic45914.jpg  \n",
            "  inflating: /content/image/synpic46764.jpg  \n",
            "  inflating: /content/image/synpic32727.jpg  \n",
            "  inflating: /content/image/synpic32962.jpg  \n",
            "  inflating: /content/image/synpic42210.jpg  \n",
            "  inflating: /content/image/synpic32970.jpg  \n",
            "  inflating: /content/image/synpic32981.jpg  \n",
            "  inflating: /content/image/synpic33102.jpg  \n",
            "  inflating: /content/image/synpic32933.jpg  \n",
            "  inflating: /content/image/synpic33226.jpg  \n",
            "  inflating: /content/image/synpic33302.jpg  \n",
            "  inflating: /content/image/synpic33331.jpg  \n",
            "  inflating: /content/image/synpic33378.jpg  \n",
            "  inflating: /content/image/synpic42245.jpg  \n",
            "  inflating: /content/image/synpic46720.jpg  \n",
            "  inflating: /content/image/synpic47196.jpg  \n",
            "  inflating: /content/image/synpic48122.jpg  \n",
            "  inflating: /content/image/synpic33422.jpg  \n",
            "  inflating: /content/image/synpic33689.jpg  \n",
            "  inflating: /content/image/synpic33844.jpg  \n",
            "  inflating: /content/image/synpic33429.jpg  \n",
            "  inflating: /content/image/synpic33481.jpg  \n",
            "  inflating: /content/image/synpic34054.jpg  \n",
            "  inflating: /content/image/synpic34017.jpg  \n",
            "  inflating: /content/image/synpic33892.jpg  \n",
            "  inflating: /content/image/synpic33889.jpg  \n",
            "  inflating: /content/image/synpic34449.jpg  \n",
            "  inflating: /content/image/synpic42290.jpg  \n",
            "  inflating: /content/image/synpic34836.jpg  \n",
            "  inflating: /content/image/synpic42951.jpg  \n",
            "  inflating: /content/image/synpic34713.jpg  \n",
            "  inflating: /content/image/synpic34854.jpg  \n",
            "  inflating: /content/image/synpic34515.jpg  \n",
            "  inflating: /content/image/synpic35191.jpg  \n",
            "  inflating: /content/image/synpic34922.jpg  \n",
            "  inflating: /content/image/synpic35356.jpg  \n",
            "  inflating: /content/image/synpic35914.jpg  \n",
            "  inflating: /content/image/synpic37275.jpg  \n",
            "  inflating: /content/image/synpic34947.jpg  \n",
            "  inflating: /content/image/synpic35155.jpg  \n",
            "  inflating: /content/image/synpic37605.jpg  \n",
            "  inflating: /content/image/synpic38630.jpg  \n",
            "  inflating: /content/image/synpic43609.jpg  \n",
            "  inflating: /content/image/synpic45115.jpg  \n",
            "  inflating: /content/image/synpic46943.jpg  \n",
            "  inflating: /content/image/synpic47356.jpg  \n",
            "  inflating: /content/image/synpic48714.jpg  \n",
            "  inflating: /content/image/synpic38069.jpg  \n",
            "  inflating: /content/image/synpic42307.jpg  \n",
            "  inflating: /content/image/synpic45039.jpg  \n",
            "  inflating: /content/image/synpic38263.jpg  \n",
            "  inflating: /content/image/synpic43648.jpg  \n",
            "  inflating: /content/image/synpic45364.jpg  \n",
            "  inflating: /content/image/synpic38858.jpg  \n",
            "  inflating: /content/image/synpic38531.jpg  \n",
            "  inflating: /content/image/synpic42805.jpg  \n",
            "  inflating: /content/image/synpic45162.jpg  \n",
            "  inflating: /content/image/synpic45699.jpg  \n",
            "  inflating: /content/image/synpic46976.jpg  \n",
            "  inflating: /content/image/synpic47783.jpg  \n",
            "  inflating: /content/image/synpic49862.jpg  \n",
            "  inflating: /content/image/synpic39240.jpg  \n",
            "  inflating: /content/image/synpic39086.jpg  \n",
            "  inflating: /content/image/synpic39141.jpg  \n",
            "  inflating: /content/image/synpic39301.jpg  \n",
            "  inflating: /content/image/synpic39088.jpg  \n",
            "  inflating: /content/image/synpic39757.jpg  \n",
            "  inflating: /content/image/synpic44995.jpg  \n",
            "  inflating: /content/image/synpic45544.jpg  \n",
            "  inflating: /content/image/synpic47020.jpg  \n",
            "  inflating: /content/image/synpic47737.jpg  \n",
            "  inflating: /content/image/synpic47964.jpg  \n",
            "  inflating: /content/image/synpic50848.jpg  \n",
            "  inflating: /content/image/synpic50949.jpg  \n",
            "  inflating: /content/image/synpic40272.jpg  \n",
            "  inflating: /content/image/synpic39460.jpg  \n",
            "  inflating: /content/image/synpic45610.jpg  \n",
            "  inflating: /content/image/synpic39532.jpg  \n",
            "  inflating: /content/image/synpic40314.jpg  \n",
            "  inflating: /content/image/synpic40096.jpg  \n",
            "  inflating: /content/image/synpic40426.jpg  \n",
            "  inflating: /content/image/synpic40520.jpg  \n",
            "  inflating: /content/image/synpic40464.jpg  \n",
            "  inflating: /content/image/synpic40596.jpg  \n",
            "  inflating: /content/image/synpic41050.jpg  \n",
            "  inflating: /content/image/synpic40500.jpg  \n",
            "  inflating: /content/image/synpic41119.jpg  \n",
            "  inflating: /content/image/synpic41325.jpg  \n",
            "  inflating: /content/image/synpic42157.jpg  \n",
            "  inflating: /content/image/synpic51709.jpg  \n",
            "  inflating: /content/image/synpic51872.jpg  \n",
            "  inflating: /content/image/synpic51926.jpg  \n",
            "  inflating: /content/image/synpic52282.jpg  \n",
            "  inflating: /content/image/synpic52248.jpg  \n",
            "  inflating: /content/image/synpic51774.jpg  \n",
            "  inflating: /content/image/synpic52732.jpg  \n",
            "  inflating: /content/image/synpic52988.jpg  \n",
            "  inflating: /content/image/synpic52767.jpg  \n",
            "  inflating: /content/image/synpic53033.jpg  \n",
            "  inflating: /content/image/synpic52951.jpg  \n",
            "  inflating: /content/image/synpic52932.jpg  \n",
            "  inflating: /content/image/synpic52828.jpg  \n",
            "  inflating: /content/image/synpic53097.jpg  \n",
            "  inflating: /content/image/synpic53207.jpg  \n",
            "  inflating: /content/image/synpic53228.jpg  \n",
            "  inflating: /content/image/synpic53287.jpg  \n",
            "  inflating: /content/image/synpic53816.jpg  \n",
            "  inflating: /content/image/synpic53867.jpg  \n",
            "  inflating: /content/image/synpic53978.jpg  \n",
            "  inflating: /content/image/synpic54004.jpg  \n",
            "  inflating: /content/image/synpic53635.jpg  \n",
            "  inflating: /content/image/synpic53574.jpg  \n",
            "  inflating: /content/image/synpic54795.jpg  \n",
            "  inflating: /content/image/synpic54802.jpg  \n",
            "  inflating: /content/image/synpic54391.jpg  \n",
            "  inflating: /content/image/synpic55245.jpg  \n",
            "  inflating: /content/image/synpic54610.jpg  \n",
            "  inflating: /content/image/synpic55286.jpg  \n",
            "  inflating: /content/image/synpic54823.jpg  \n",
            "  inflating: /content/image/synpic55464.jpg  \n",
            "  inflating: /content/image/synpic55583.jpg  \n",
            "  inflating: /content/image/synpic55317.jpg  \n",
            "  inflating: /content/image/synpic56116.jpg  \n",
            "  inflating: /content/image/synpic56344.jpg  \n",
            "  inflating: /content/image/synpic55948.jpg  \n",
            "  inflating: /content/image/synpic56388.jpg  \n",
            "  inflating: /content/image/synpic56061.jpg  \n",
            "  inflating: /content/image/synpic57237.jpg  \n",
            "  inflating: /content/image/synpic56799.jpg  \n",
            "  inflating: /content/image/synpic56841.jpg  \n",
            "  inflating: /content/image/synpic57520.jpg  \n",
            "  inflating: /content/image/synpic57317.jpg  \n",
            "  inflating: /content/image/synpic56422.jpg  \n",
            "  inflating: /content/image/synpic57813.jpg  \n",
            "  inflating: /content/image/synpic57935.jpg  \n",
            "  inflating: /content/image/synpic58547.jpg  \n",
            "  inflating: /content/image/synpic57368.jpg  \n",
            "  inflating: /content/image/synpic59131.jpg  \n",
            "  inflating: /content/image/synpic58902.jpg  \n",
            "  inflating: /content/image/synpic58261.jpg  \n",
            "  inflating: /content/image/synpic59126.jpg  \n",
            "  inflating: /content/image/synpic59356.jpg  \n",
            "  inflating: /content/image/synpic59536.jpg  \n",
            "  inflating: /content/image/synpic59935.jpg  \n",
            "  inflating: /content/image/synpic60096.jpg  \n",
            "  inflating: /content/image/synpic60543.jpg  \n",
            "  inflating: /content/image/synpic60831.jpg  \n",
            "  inflating: /content/image/synpic60254.jpg  \n",
            "  inflating: /content/image/synpic60703.jpg  \n",
            "  inflating: /content/image/synpic60423.jpg  \n",
            "  inflating: /content/image/synpic100228.jpg  \n",
            "  inflating: /content/image/synpic100132.jpg  \n",
            "  inflating: /content/image/synpic100176.jpg  \n",
            "  inflating: /content/image/synpic48749.jpg  \n",
            "  inflating: /content/image/synpic50943.jpg  \n",
            "  inflating: /content/image/synpic51282.jpg  \n",
            "  inflating: /content/image/synpic51212.jpg  \n"
          ]
        }
      ]
    },
    {
      "cell_type": "code",
      "source": [
        "import json\n",
        "import os\n",
        "import random\n",
        "import shutil\n",
        "\n",
        "with open(\"formatted_vqa_rad_with_organ.json\", \"r\", encoding=\"utf-8\") as f:\n",
        "    data = json.load(f)\n",
        "\n",
        "image_folder = \"/content/image\"\n",
        "train_folder = \"/content/train_folder\"\n",
        "test_folder = \"/content/test_folder\"\n",
        "\n",
        "os.makedirs(train_folder, exist_ok=True)\n",
        "os.makedirs(test_folder, exist_ok=True)\n",
        "\n",
        "train_ratio = 0.8\n",
        "test_ratio = 1 - train_ratio\n",
        "\n",
        "random.shuffle(data)\n",
        "\n",
        "num_train = int(len(data) * train_ratio)\n",
        "train_data = data[:num_train]\n",
        "test_data = data[num_train:]\n",
        "\n",
        "with open(\"train_conversations.json\", \"w\", encoding=\"utf-8\") as f:\n",
        "    json.dump(train_data, f, ensure_ascii=False, indent=4)\n",
        "\n",
        "with open(\"test_conversations.json\", \"w\", encoding=\"utf-8\") as f:\n",
        "    json.dump(test_data, f, ensure_ascii=False, indent=4)\n",
        "\n",
        "# Move the image into to folder\n",
        "for dataset, folder in [(train_data, train_folder), (test_data, test_folder)]:\n",
        "    for item in dataset:\n",
        "        image_name = item[\"image\"]\n",
        "        image_path = os.path.join(image_folder, image_name)\n",
        "        if os.path.exists(image_path):\n",
        "            shutil.copy(image_path, folder)\n",
        "        else:\n",
        "            print(f\"Warning: Image {image_name} not found in {image_folder}\")\n",
        "\n",
        "print(\"Split the dataset successfully！\")\n"
      ],
      "metadata": {
        "id": "Q4WfMZ_h5ulp"
      },
      "execution_count": null,
      "outputs": []
    },
    {
      "cell_type": "markdown",
      "source": [
        "####download the dataset"
      ],
      "metadata": {
        "id": "TpD9BsXI7Fsu"
      }
    },
    {
      "cell_type": "code",
      "source": [
        "from google.colab import files\n",
        "import shutil\n",
        "\n",
        "\n",
        "folder_to_zip = \"train_folder\"\n",
        "output_zip = \"train_image_folder.zip\"\n",
        "\n",
        "\n",
        "shutil.make_archive(output_zip.replace(\".zip\", \"\"), 'zip', folder_to_zip)\n",
        "\n",
        "\n",
        "files.download(output_zip)\n"
      ],
      "metadata": {
        "colab": {
          "base_uri": "https://localhost:8080/",
          "height": 17
        },
        "id": "6xgVqFoW661A",
        "outputId": "80c5dc9f-dd96-45b2-b9e8-fc3429c2d872"
      },
      "execution_count": null,
      "outputs": [
        {
          "output_type": "display_data",
          "data": {
            "text/plain": [
              "<IPython.core.display.Javascript object>"
            ],
            "application/javascript": [
              "\n",
              "    async function download(id, filename, size) {\n",
              "      if (!google.colab.kernel.accessAllowed) {\n",
              "        return;\n",
              "      }\n",
              "      const div = document.createElement('div');\n",
              "      const label = document.createElement('label');\n",
              "      label.textContent = `Downloading \"${filename}\": `;\n",
              "      div.appendChild(label);\n",
              "      const progress = document.createElement('progress');\n",
              "      progress.max = size;\n",
              "      div.appendChild(progress);\n",
              "      document.body.appendChild(div);\n",
              "\n",
              "      const buffers = [];\n",
              "      let downloaded = 0;\n",
              "\n",
              "      const channel = await google.colab.kernel.comms.open(id);\n",
              "      // Send a message to notify the kernel that we're ready.\n",
              "      channel.send({})\n",
              "\n",
              "      for await (const message of channel.messages) {\n",
              "        // Send a message to notify the kernel that we're ready.\n",
              "        channel.send({})\n",
              "        if (message.buffers) {\n",
              "          for (const buffer of message.buffers) {\n",
              "            buffers.push(buffer);\n",
              "            downloaded += buffer.byteLength;\n",
              "            progress.value = downloaded;\n",
              "          }\n",
              "        }\n",
              "      }\n",
              "      const blob = new Blob(buffers, {type: 'application/binary'});\n",
              "      const a = document.createElement('a');\n",
              "      a.href = window.URL.createObjectURL(blob);\n",
              "      a.download = filename;\n",
              "      div.appendChild(a);\n",
              "      a.click();\n",
              "      div.remove();\n",
              "    }\n",
              "  "
            ]
          },
          "metadata": {}
        },
        {
          "output_type": "display_data",
          "data": {
            "text/plain": [
              "<IPython.core.display.Javascript object>"
            ],
            "application/javascript": [
              "download(\"download_1bc9c67b-fca5-4b76-835b-eae1b9e8c34a\", \"train_image_folder.zip\", 12301033)"
            ]
          },
          "metadata": {}
        }
      ]
    },
    {
      "cell_type": "code",
      "source": [],
      "metadata": {
        "id": "rf0HNQfF7R54"
      },
      "execution_count": null,
      "outputs": []
    }
  ],
  "metadata": {
    "kernelspec": {
      "display_name": "base",
      "language": "python",
      "name": "python3"
    },
    "language_info": {
      "codemirror_mode": {
        "name": "ipython",
        "version": 3
      },
      "file_extension": ".py",
      "mimetype": "text/x-python",
      "name": "python",
      "nbconvert_exporter": "python",
      "pygments_lexer": "ipython3",
      "version": "3.12.7"
    },
    "colab": {
      "provenance": []
    }
  },
  "nbformat": 4,
  "nbformat_minor": 0
}